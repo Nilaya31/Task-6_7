{
 "cells": [
  {
   "cell_type": "markdown",
   "metadata": {},
   "source": [
    "# Assignment8"
   ]
  },
  {
   "cell_type": "code",
   "execution_count": 1,
   "metadata": {},
   "outputs": [],
   "source": [
    "import pandas as pd\n",
    "import matplotlib.pyplot as plt\n",
    "import numpy as np\n",
    "from sklearn import linear_model"
   ]
  },
  {
   "cell_type": "markdown",
   "metadata": {},
   "source": [
    "# How Much is Your Car Worth?\n",
    "\n",
    "Data about the retail price of 2005 General Motors cars can be found in `car_data.csv`.\n",
    "\n",
    "The columns are:\n",
    "\n",
    "1. Price: suggested retail price of the used 2005 GM car in excellent condition.\n",
    "2. Mileage: number of miles the car has been driven\n",
    "3. Make: manufacturer of the car such as Saturn, Pontiac, and Chevrolet\n",
    "4. Model: specific models for each car manufacturer such as Ion, Vibe, Cavalier\n",
    "5. Trim (of car): specific type of car model such as SE Sedan 4D, Quad Coupe 2D          \n",
    "6. Type: body type such as sedan, coupe, etc.      \n",
    "7. Cylinder: number of cylinders in the engine        \n",
    "8. Liter: a more specific measure of engine size     \n",
    "9. Doors: number of doors           \n",
    "10. Cruise: indicator variable representing whether the car has cruise control (1 = cruise)\n",
    "11. Sound: indicator variable representing whether the car has upgraded speakers (1 = upgraded)\n",
    "12. Leather: indicator variable representing whether the car has leather seats (1 = leather)\n",
    "\n",
    "## Tasks, Part 1\n",
    "\n",
    "1. Find the linear regression equation for mileage vs price.\n",
    "2. Chart the original data and the equation on the chart.\n",
    "3. Find the equation's $R^2$ score (use the `.score` method) to determine whether the\n",
    "equation is a good fit for this data. (0.8 and greater is considered a strong correlation.)\n",
    "\n",
    "## Tasks, Part 2\n",
    "\n",
    "1. Use mileage, cylinders, liters, doors, cruise, sound, and leather to find the linear regression equation.\n",
    "2. Find the equation's $R^2$ score (use the `.score` method) to determine whether the\n",
    "equation is a good fit for this data. (0.8 and greater is considered a strong correlation.)\n",
    "3. Find the combination of the factors that is the best predictor for price.\n",
    "\n",
    "## Tasks, Hard Mode\n",
    "\n",
    "1. Research dummy variables in scikit-learn to see how to use the make, model, and body type.\n",
    "2. Find the best combination of factors to predict price."
   ]
  },
  {
   "cell_type": "code",
   "execution_count": 3,
   "metadata": {},
   "outputs": [
    {
     "data": {
      "text/html": [
       "<div>\n",
       "<style scoped>\n",
       "    .dataframe tbody tr th:only-of-type {\n",
       "        vertical-align: middle;\n",
       "    }\n",
       "\n",
       "    .dataframe tbody tr th {\n",
       "        vertical-align: top;\n",
       "    }\n",
       "\n",
       "    .dataframe thead th {\n",
       "        text-align: right;\n",
       "    }\n",
       "</style>\n",
       "<table border=\"1\" class=\"dataframe\">\n",
       "  <thead>\n",
       "    <tr style=\"text-align: right;\">\n",
       "      <th></th>\n",
       "      <th>Price</th>\n",
       "      <th>Mileage</th>\n",
       "      <th>Make</th>\n",
       "      <th>Model</th>\n",
       "      <th>Trim</th>\n",
       "      <th>Type</th>\n",
       "      <th>Cylinder</th>\n",
       "      <th>Liter</th>\n",
       "      <th>Doors</th>\n",
       "      <th>Cruise</th>\n",
       "      <th>Sound</th>\n",
       "      <th>Leather</th>\n",
       "    </tr>\n",
       "  </thead>\n",
       "  <tbody>\n",
       "    <tr>\n",
       "      <th>0</th>\n",
       "      <td>17314.103129</td>\n",
       "      <td>8221</td>\n",
       "      <td>Buick</td>\n",
       "      <td>Century</td>\n",
       "      <td>Sedan 4D</td>\n",
       "      <td>Sedan</td>\n",
       "      <td>6</td>\n",
       "      <td>3.1</td>\n",
       "      <td>4</td>\n",
       "      <td>1</td>\n",
       "      <td>1</td>\n",
       "      <td>1</td>\n",
       "    </tr>\n",
       "    <tr>\n",
       "      <th>1</th>\n",
       "      <td>17542.036083</td>\n",
       "      <td>9135</td>\n",
       "      <td>Buick</td>\n",
       "      <td>Century</td>\n",
       "      <td>Sedan 4D</td>\n",
       "      <td>Sedan</td>\n",
       "      <td>6</td>\n",
       "      <td>3.1</td>\n",
       "      <td>4</td>\n",
       "      <td>1</td>\n",
       "      <td>1</td>\n",
       "      <td>0</td>\n",
       "    </tr>\n",
       "    <tr>\n",
       "      <th>2</th>\n",
       "      <td>16218.847862</td>\n",
       "      <td>13196</td>\n",
       "      <td>Buick</td>\n",
       "      <td>Century</td>\n",
       "      <td>Sedan 4D</td>\n",
       "      <td>Sedan</td>\n",
       "      <td>6</td>\n",
       "      <td>3.1</td>\n",
       "      <td>4</td>\n",
       "      <td>1</td>\n",
       "      <td>1</td>\n",
       "      <td>0</td>\n",
       "    </tr>\n",
       "    <tr>\n",
       "      <th>3</th>\n",
       "      <td>16336.913140</td>\n",
       "      <td>16342</td>\n",
       "      <td>Buick</td>\n",
       "      <td>Century</td>\n",
       "      <td>Sedan 4D</td>\n",
       "      <td>Sedan</td>\n",
       "      <td>6</td>\n",
       "      <td>3.1</td>\n",
       "      <td>4</td>\n",
       "      <td>1</td>\n",
       "      <td>0</td>\n",
       "      <td>0</td>\n",
       "    </tr>\n",
       "    <tr>\n",
       "      <th>4</th>\n",
       "      <td>16339.170324</td>\n",
       "      <td>19832</td>\n",
       "      <td>Buick</td>\n",
       "      <td>Century</td>\n",
       "      <td>Sedan 4D</td>\n",
       "      <td>Sedan</td>\n",
       "      <td>6</td>\n",
       "      <td>3.1</td>\n",
       "      <td>4</td>\n",
       "      <td>1</td>\n",
       "      <td>0</td>\n",
       "      <td>1</td>\n",
       "    </tr>\n",
       "  </tbody>\n",
       "</table>\n",
       "</div>"
      ],
      "text/plain": [
       "          Price  Mileage   Make    Model      Trim   Type  Cylinder  Liter  \\\n",
       "0  17314.103129     8221  Buick  Century  Sedan 4D  Sedan         6    3.1   \n",
       "1  17542.036083     9135  Buick  Century  Sedan 4D  Sedan         6    3.1   \n",
       "2  16218.847862    13196  Buick  Century  Sedan 4D  Sedan         6    3.1   \n",
       "3  16336.913140    16342  Buick  Century  Sedan 4D  Sedan         6    3.1   \n",
       "4  16339.170324    19832  Buick  Century  Sedan 4D  Sedan         6    3.1   \n",
       "\n",
       "   Doors  Cruise  Sound  Leather  \n",
       "0      4       1      1        1  \n",
       "1      4       1      1        0  \n",
       "2      4       1      1        0  \n",
       "3      4       1      0        0  \n",
       "4      4       1      0        1  "
      ]
     },
     "execution_count": 3,
     "metadata": {},
     "output_type": "execute_result"
    }
   ],
   "source": [
    "df = pd.read_csv(\"car_data.csv\")\n",
    "df.head()"
   ]
  },
  {
   "cell_type": "code",
   "execution_count": 4,
   "metadata": {},
   "outputs": [
    {
     "name": "stdout",
     "output_type": "stream",
     "text": [
      "<class 'pandas.core.frame.DataFrame'>\n",
      "RangeIndex: 804 entries, 0 to 803\n",
      "Data columns (total 12 columns):\n",
      " #   Column    Non-Null Count  Dtype  \n",
      "---  ------    --------------  -----  \n",
      " 0   Price     804 non-null    float64\n",
      " 1   Mileage   804 non-null    int64  \n",
      " 2   Make      804 non-null    object \n",
      " 3   Model     804 non-null    object \n",
      " 4   Trim      804 non-null    object \n",
      " 5   Type      804 non-null    object \n",
      " 6   Cylinder  804 non-null    int64  \n",
      " 7   Liter     804 non-null    float64\n",
      " 8   Doors     804 non-null    int64  \n",
      " 9   Cruise    804 non-null    int64  \n",
      " 10  Sound     804 non-null    int64  \n",
      " 11  Leather   804 non-null    int64  \n",
      "dtypes: float64(2), int64(6), object(4)\n",
      "memory usage: 75.5+ KB\n"
     ]
    }
   ],
   "source": [
    "df.info()"
   ]
  },
  {
   "cell_type": "code",
   "execution_count": 5,
   "metadata": {},
   "outputs": [
    {
     "data": {
      "text/plain": [
       "Price       0\n",
       "Mileage     0\n",
       "Make        0\n",
       "Model       0\n",
       "Trim        0\n",
       "Type        0\n",
       "Cylinder    0\n",
       "Liter       0\n",
       "Doors       0\n",
       "Cruise      0\n",
       "Sound       0\n",
       "Leather     0\n",
       "dtype: int64"
      ]
     },
     "execution_count": 5,
     "metadata": {},
     "output_type": "execute_result"
    }
   ],
   "source": [
    "df.isnull().sum()"
   ]
  },
  {
   "cell_type": "code",
   "execution_count": 6,
   "metadata": {},
   "outputs": [
    {
     "data": {
      "text/plain": [
       "(804, 12)"
      ]
     },
     "execution_count": 6,
     "metadata": {},
     "output_type": "execute_result"
    }
   ],
   "source": [
    "df.shape"
   ]
  },
  {
   "cell_type": "code",
   "execution_count": 7,
   "metadata": {},
   "outputs": [],
   "source": [
    "df = df.drop_duplicates()"
   ]
  },
  {
   "cell_type": "code",
   "execution_count": 8,
   "metadata": {},
   "outputs": [
    {
     "data": {
      "text/plain": [
       "(804, 12)"
      ]
     },
     "execution_count": 8,
     "metadata": {},
     "output_type": "execute_result"
    }
   ],
   "source": [
    "df.shape"
   ]
  },
  {
   "cell_type": "raw",
   "metadata": {},
   "source": [
    "From the shape it's clear that we have no duplicates.\n",
    "\n",
    "\n",
    "\n",
    "OUTLIERS EXIST OR NOT"
   ]
  },
  {
   "cell_type": "code",
   "execution_count": 9,
   "metadata": {},
   "outputs": [
    {
     "data": {
      "text/html": [
       "<div>\n",
       "<style scoped>\n",
       "    .dataframe tbody tr th:only-of-type {\n",
       "        vertical-align: middle;\n",
       "    }\n",
       "\n",
       "    .dataframe tbody tr th {\n",
       "        vertical-align: top;\n",
       "    }\n",
       "\n",
       "    .dataframe thead th {\n",
       "        text-align: right;\n",
       "    }\n",
       "</style>\n",
       "<table border=\"1\" class=\"dataframe\">\n",
       "  <thead>\n",
       "    <tr style=\"text-align: right;\">\n",
       "      <th></th>\n",
       "      <th>count</th>\n",
       "      <th>mean</th>\n",
       "      <th>std</th>\n",
       "      <th>min</th>\n",
       "      <th>25%</th>\n",
       "      <th>50%</th>\n",
       "      <th>75%</th>\n",
       "      <th>max</th>\n",
       "    </tr>\n",
       "  </thead>\n",
       "  <tbody>\n",
       "    <tr>\n",
       "      <th>Price</th>\n",
       "      <td>804.0</td>\n",
       "      <td>21343.143767</td>\n",
       "      <td>9884.852801</td>\n",
       "      <td>8638.930895</td>\n",
       "      <td>14273.07387</td>\n",
       "      <td>18024.995019</td>\n",
       "      <td>26717.316636</td>\n",
       "      <td>70755.466717</td>\n",
       "    </tr>\n",
       "    <tr>\n",
       "      <th>Mileage</th>\n",
       "      <td>804.0</td>\n",
       "      <td>19831.934080</td>\n",
       "      <td>8196.319707</td>\n",
       "      <td>266.000000</td>\n",
       "      <td>14623.50000</td>\n",
       "      <td>20913.500000</td>\n",
       "      <td>25213.000000</td>\n",
       "      <td>50387.000000</td>\n",
       "    </tr>\n",
       "    <tr>\n",
       "      <th>Cylinder</th>\n",
       "      <td>804.0</td>\n",
       "      <td>5.268657</td>\n",
       "      <td>1.387531</td>\n",
       "      <td>4.000000</td>\n",
       "      <td>4.00000</td>\n",
       "      <td>6.000000</td>\n",
       "      <td>6.000000</td>\n",
       "      <td>8.000000</td>\n",
       "    </tr>\n",
       "    <tr>\n",
       "      <th>Liter</th>\n",
       "      <td>804.0</td>\n",
       "      <td>3.037313</td>\n",
       "      <td>1.105562</td>\n",
       "      <td>1.600000</td>\n",
       "      <td>2.20000</td>\n",
       "      <td>2.800000</td>\n",
       "      <td>3.800000</td>\n",
       "      <td>6.000000</td>\n",
       "    </tr>\n",
       "    <tr>\n",
       "      <th>Doors</th>\n",
       "      <td>804.0</td>\n",
       "      <td>3.527363</td>\n",
       "      <td>0.850169</td>\n",
       "      <td>2.000000</td>\n",
       "      <td>4.00000</td>\n",
       "      <td>4.000000</td>\n",
       "      <td>4.000000</td>\n",
       "      <td>4.000000</td>\n",
       "    </tr>\n",
       "    <tr>\n",
       "      <th>Cruise</th>\n",
       "      <td>804.0</td>\n",
       "      <td>0.752488</td>\n",
       "      <td>0.431836</td>\n",
       "      <td>0.000000</td>\n",
       "      <td>1.00000</td>\n",
       "      <td>1.000000</td>\n",
       "      <td>1.000000</td>\n",
       "      <td>1.000000</td>\n",
       "    </tr>\n",
       "    <tr>\n",
       "      <th>Sound</th>\n",
       "      <td>804.0</td>\n",
       "      <td>0.679104</td>\n",
       "      <td>0.467111</td>\n",
       "      <td>0.000000</td>\n",
       "      <td>0.00000</td>\n",
       "      <td>1.000000</td>\n",
       "      <td>1.000000</td>\n",
       "      <td>1.000000</td>\n",
       "    </tr>\n",
       "    <tr>\n",
       "      <th>Leather</th>\n",
       "      <td>804.0</td>\n",
       "      <td>0.723881</td>\n",
       "      <td>0.447355</td>\n",
       "      <td>0.000000</td>\n",
       "      <td>0.00000</td>\n",
       "      <td>1.000000</td>\n",
       "      <td>1.000000</td>\n",
       "      <td>1.000000</td>\n",
       "    </tr>\n",
       "  </tbody>\n",
       "</table>\n",
       "</div>"
      ],
      "text/plain": [
       "          count          mean          std          min          25%  \\\n",
       "Price     804.0  21343.143767  9884.852801  8638.930895  14273.07387   \n",
       "Mileage   804.0  19831.934080  8196.319707   266.000000  14623.50000   \n",
       "Cylinder  804.0      5.268657     1.387531     4.000000      4.00000   \n",
       "Liter     804.0      3.037313     1.105562     1.600000      2.20000   \n",
       "Doors     804.0      3.527363     0.850169     2.000000      4.00000   \n",
       "Cruise    804.0      0.752488     0.431836     0.000000      1.00000   \n",
       "Sound     804.0      0.679104     0.467111     0.000000      0.00000   \n",
       "Leather   804.0      0.723881     0.447355     0.000000      0.00000   \n",
       "\n",
       "                   50%           75%           max  \n",
       "Price     18024.995019  26717.316636  70755.466717  \n",
       "Mileage   20913.500000  25213.000000  50387.000000  \n",
       "Cylinder      6.000000      6.000000      8.000000  \n",
       "Liter         2.800000      3.800000      6.000000  \n",
       "Doors         4.000000      4.000000      4.000000  \n",
       "Cruise        1.000000      1.000000      1.000000  \n",
       "Sound         1.000000      1.000000      1.000000  \n",
       "Leather       1.000000      1.000000      1.000000  "
      ]
     },
     "execution_count": 9,
     "metadata": {},
     "output_type": "execute_result"
    }
   ],
   "source": [
    "x = df.describe().T\n",
    "x"
   ]
  },
  {
   "cell_type": "raw",
   "metadata": {},
   "source": [
    "CHECK THE PRESENCE OF OUTLIERS"
   ]
  },
  {
   "cell_type": "code",
   "execution_count": 10,
   "metadata": {},
   "outputs": [
    {
     "name": "stderr",
     "output_type": "stream",
     "text": [
      "C:\\Users\\Admin\\AppData\\Local\\Temp\\ipykernel_5604\\547985044.py:6: FutureWarning: Automatic reindexing on DataFrame vs Series comparisons is deprecated and will raise ValueError in a future version. Do `left, right = left.align(right, axis=1, copy=False)` before e.g. `left == right`\n",
      "  x = (df < (Q1 - 1.5 * IQR)) |(df > (Q3 + 1.5 * IQR))\n"
     ]
    },
    {
     "name": "stdout",
     "output_type": "stream",
     "text": [
      "Outliers \u001b[1mpresent\u001b[0m in the data of \u001b[1mPrice\u001b[0m\n",
      "-------------------------------\n"
     ]
    },
    {
     "name": "stderr",
     "output_type": "stream",
     "text": [
      "C:\\Users\\Admin\\AppData\\Local\\Temp\\ipykernel_5604\\547985044.py:6: FutureWarning: Automatic reindexing on DataFrame vs Series comparisons is deprecated and will raise ValueError in a future version. Do `left, right = left.align(right, axis=1, copy=False)` before e.g. `left == right`\n",
      "  x = (df < (Q1 - 1.5 * IQR)) |(df > (Q3 + 1.5 * IQR))\n"
     ]
    },
    {
     "name": "stdout",
     "output_type": "stream",
     "text": [
      "Outliers \u001b[1mpresent\u001b[0m in the data of \u001b[1mMileage\u001b[0m\n",
      "-------------------------------\n"
     ]
    },
    {
     "name": "stderr",
     "output_type": "stream",
     "text": [
      "C:\\Users\\Admin\\AppData\\Local\\Temp\\ipykernel_5604\\547985044.py:6: FutureWarning: Automatic reindexing on DataFrame vs Series comparisons is deprecated and will raise ValueError in a future version. Do `left, right = left.align(right, axis=1, copy=False)` before e.g. `left == right`\n",
      "  x = (df < (Q1 - 1.5 * IQR)) |(df > (Q3 + 1.5 * IQR))\n"
     ]
    },
    {
     "name": "stdout",
     "output_type": "stream",
     "text": [
      "Outliers \u001b[1m not present in the data of\u001b[0m in \u001b[1mMake\u001b[0m\n",
      "-------------------------------\n"
     ]
    },
    {
     "name": "stderr",
     "output_type": "stream",
     "text": [
      "C:\\Users\\Admin\\AppData\\Local\\Temp\\ipykernel_5604\\547985044.py:6: FutureWarning: Automatic reindexing on DataFrame vs Series comparisons is deprecated and will raise ValueError in a future version. Do `left, right = left.align(right, axis=1, copy=False)` before e.g. `left == right`\n",
      "  x = (df < (Q1 - 1.5 * IQR)) |(df > (Q3 + 1.5 * IQR))\n"
     ]
    },
    {
     "name": "stdout",
     "output_type": "stream",
     "text": [
      "Outliers \u001b[1m not present in the data of\u001b[0m in \u001b[1mModel\u001b[0m\n",
      "-------------------------------\n"
     ]
    },
    {
     "name": "stderr",
     "output_type": "stream",
     "text": [
      "C:\\Users\\Admin\\AppData\\Local\\Temp\\ipykernel_5604\\547985044.py:6: FutureWarning: Automatic reindexing on DataFrame vs Series comparisons is deprecated and will raise ValueError in a future version. Do `left, right = left.align(right, axis=1, copy=False)` before e.g. `left == right`\n",
      "  x = (df < (Q1 - 1.5 * IQR)) |(df > (Q3 + 1.5 * IQR))\n"
     ]
    },
    {
     "name": "stdout",
     "output_type": "stream",
     "text": [
      "Outliers \u001b[1m not present in the data of\u001b[0m in \u001b[1mTrim\u001b[0m\n",
      "-------------------------------\n"
     ]
    },
    {
     "name": "stderr",
     "output_type": "stream",
     "text": [
      "C:\\Users\\Admin\\AppData\\Local\\Temp\\ipykernel_5604\\547985044.py:6: FutureWarning: Automatic reindexing on DataFrame vs Series comparisons is deprecated and will raise ValueError in a future version. Do `left, right = left.align(right, axis=1, copy=False)` before e.g. `left == right`\n",
      "  x = (df < (Q1 - 1.5 * IQR)) |(df > (Q3 + 1.5 * IQR))\n"
     ]
    },
    {
     "name": "stdout",
     "output_type": "stream",
     "text": [
      "Outliers \u001b[1m not present in the data of\u001b[0m in \u001b[1mType\u001b[0m\n",
      "-------------------------------\n"
     ]
    },
    {
     "name": "stderr",
     "output_type": "stream",
     "text": [
      "C:\\Users\\Admin\\AppData\\Local\\Temp\\ipykernel_5604\\547985044.py:6: FutureWarning: Automatic reindexing on DataFrame vs Series comparisons is deprecated and will raise ValueError in a future version. Do `left, right = left.align(right, axis=1, copy=False)` before e.g. `left == right`\n",
      "  x = (df < (Q1 - 1.5 * IQR)) |(df > (Q3 + 1.5 * IQR))\n"
     ]
    },
    {
     "name": "stdout",
     "output_type": "stream",
     "text": [
      "Outliers \u001b[1m not present in the data of\u001b[0m in \u001b[1mCylinder\u001b[0m\n",
      "-------------------------------\n"
     ]
    },
    {
     "name": "stderr",
     "output_type": "stream",
     "text": [
      "C:\\Users\\Admin\\AppData\\Local\\Temp\\ipykernel_5604\\547985044.py:6: FutureWarning: Automatic reindexing on DataFrame vs Series comparisons is deprecated and will raise ValueError in a future version. Do `left, right = left.align(right, axis=1, copy=False)` before e.g. `left == right`\n",
      "  x = (df < (Q1 - 1.5 * IQR)) |(df > (Q3 + 1.5 * IQR))\n"
     ]
    },
    {
     "name": "stdout",
     "output_type": "stream",
     "text": [
      "Outliers \u001b[1m not present in the data of\u001b[0m in \u001b[1mLiter\u001b[0m\n",
      "-------------------------------\n"
     ]
    },
    {
     "name": "stderr",
     "output_type": "stream",
     "text": [
      "C:\\Users\\Admin\\AppData\\Local\\Temp\\ipykernel_5604\\547985044.py:6: FutureWarning: Automatic reindexing on DataFrame vs Series comparisons is deprecated and will raise ValueError in a future version. Do `left, right = left.align(right, axis=1, copy=False)` before e.g. `left == right`\n",
      "  x = (df < (Q1 - 1.5 * IQR)) |(df > (Q3 + 1.5 * IQR))\n"
     ]
    },
    {
     "name": "stdout",
     "output_type": "stream",
     "text": [
      "Outliers \u001b[1mpresent\u001b[0m in the data of \u001b[1mDoors\u001b[0m\n",
      "-------------------------------\n"
     ]
    },
    {
     "name": "stderr",
     "output_type": "stream",
     "text": [
      "C:\\Users\\Admin\\AppData\\Local\\Temp\\ipykernel_5604\\547985044.py:6: FutureWarning: Automatic reindexing on DataFrame vs Series comparisons is deprecated and will raise ValueError in a future version. Do `left, right = left.align(right, axis=1, copy=False)` before e.g. `left == right`\n",
      "  x = (df < (Q1 - 1.5 * IQR)) |(df > (Q3 + 1.5 * IQR))\n"
     ]
    },
    {
     "name": "stdout",
     "output_type": "stream",
     "text": [
      "Outliers \u001b[1mpresent\u001b[0m in the data of \u001b[1mCruise\u001b[0m\n",
      "-------------------------------\n"
     ]
    },
    {
     "name": "stderr",
     "output_type": "stream",
     "text": [
      "C:\\Users\\Admin\\AppData\\Local\\Temp\\ipykernel_5604\\547985044.py:6: FutureWarning: Automatic reindexing on DataFrame vs Series comparisons is deprecated and will raise ValueError in a future version. Do `left, right = left.align(right, axis=1, copy=False)` before e.g. `left == right`\n",
      "  x = (df < (Q1 - 1.5 * IQR)) |(df > (Q3 + 1.5 * IQR))\n"
     ]
    },
    {
     "name": "stdout",
     "output_type": "stream",
     "text": [
      "Outliers \u001b[1m not present in the data of\u001b[0m in \u001b[1mSound\u001b[0m\n",
      "-------------------------------\n"
     ]
    },
    {
     "name": "stderr",
     "output_type": "stream",
     "text": [
      "C:\\Users\\Admin\\AppData\\Local\\Temp\\ipykernel_5604\\547985044.py:6: FutureWarning: Automatic reindexing on DataFrame vs Series comparisons is deprecated and will raise ValueError in a future version. Do `left, right = left.align(right, axis=1, copy=False)` before e.g. `left == right`\n",
      "  x = (df < (Q1 - 1.5 * IQR)) |(df > (Q3 + 1.5 * IQR))\n"
     ]
    },
    {
     "name": "stdout",
     "output_type": "stream",
     "text": [
      "Outliers \u001b[1m not present in the data of\u001b[0m in \u001b[1mLeather\u001b[0m\n",
      "-------------------------------\n"
     ]
    }
   ],
   "source": [
    "def outlierpresence(df):\n",
    "  for i in df.keys():\n",
    "    Q1 = df.quantile(0.25)\n",
    "    Q3 = df.quantile(0.75)\n",
    "    IQR = Q3 - Q1\n",
    "    x = (df < (Q1 - 1.5 * IQR)) |(df > (Q3 + 1.5 * IQR))\n",
    "    # df[x.isin([True])]\n",
    "    substring = 'True'\n",
    "    y= x[x.apply(lambda row: row.astype(str).str.contains(substring, case=False).any(), axis=1)] #IT WILL GIVE ALL OUTLIERS IN THE DATAFRAME WITH ALL COLUMNS\n",
    "    if True in y[i].tolist(): #HERE WE CHECK True is in the list of particular column\n",
    "      print('Outliers', '\\033[1m'+ 'present' +'\\033[0m', 'in the data of','\\033[1m' + i + '\\033[0m')\n",
    "      print('-------------------------------')\n",
    "    else:\n",
    "      print('Outliers', '\\033[1m'+ ' not present in the data of' +'\\033[0m', 'in','\\033[1m' + i + '\\033[0m') \n",
    "      print('-------------------------------') \n",
    "outlierpresence(df)"
   ]
  },
  {
   "cell_type": "raw",
   "metadata": {},
   "source": [
    "OUTLIER VALUES OVER THE DATASET\n",
    "\n",
    "\n",
    "EDA"
   ]
  },
  {
   "cell_type": "code",
   "execution_count": 11,
   "metadata": {},
   "outputs": [
    {
     "data": {
      "image/png": "[encoded data removed]",
      "text/plain": [
       "<Figure size 640x480 with 1 Axes>"
      ]
     },
     "metadata": {},
     "output_type": "display_data"
    },
    {
     "data": {
      "text/html": [
       "<div>\n",
       "<style scoped>\n",
       "    .dataframe tbody tr th:only-of-type {\n",
       "        vertical-align: middle;\n",
       "    }\n",
       "\n",
       "    .dataframe tbody tr th {\n",
       "        vertical-align: top;\n",
       "    }\n",
       "\n",
       "    .dataframe thead th {\n",
       "        text-align: right;\n",
       "    }\n",
       "</style>\n",
       "<table border=\"1\" class=\"dataframe\">\n",
       "  <thead>\n",
       "    <tr style=\"text-align: right;\">\n",
       "      <th></th>\n",
       "      <th>Mileage</th>\n",
       "      <th>Price</th>\n",
       "    </tr>\n",
       "  </thead>\n",
       "  <tbody>\n",
       "    <tr>\n",
       "      <th>Mileage</th>\n",
       "      <td>1.000000</td>\n",
       "      <td>-0.143051</td>\n",
       "    </tr>\n",
       "    <tr>\n",
       "      <th>Price</th>\n",
       "      <td>-0.143051</td>\n",
       "      <td>1.000000</td>\n",
       "    </tr>\n",
       "  </tbody>\n",
       "</table>\n",
       "</div>"
      ],
      "text/plain": [
       "          Mileage     Price\n",
       "Mileage  1.000000 -0.143051\n",
       "Price   -0.143051  1.000000"
      ]
     },
     "execution_count": 11,
     "metadata": {},
     "output_type": "execute_result"
    }
   ],
   "source": [
    "df.plot(x='Mileage', y='Price', style='o')\n",
    "plt.title('Average Income vs consumption')\n",
    "plt.xlabel('Average Income')\n",
    "plt.ylabel('Consumption')\n",
    "plt.show()\n",
    "#dataset[['Average_income','Petrol_Consumption']].corr()\n",
    "df[['Mileage','Price']].corr()"
   ]
  },
  {
   "cell_type": "raw",
   "metadata": {},
   "source": [
    "TASK 1"
   ]
  },
  {
   "cell_type": "code",
   "execution_count": 12,
   "metadata": {},
   "outputs": [],
   "source": [
    "X = df[[\"Mileage\"]].values\n",
    "y = df[\"Price\"].values"
   ]
  },
  {
   "cell_type": "code",
   "execution_count": 13,
   "metadata": {},
   "outputs": [],
   "source": [
    "from sklearn.model_selection import train_test_split\n",
    "X_train, X_test, y_train, y_test = train_test_split(X, y, test_size=0.2, random_state=0)"
   ]
  },
  {
   "cell_type": "code",
   "execution_count": 14,
   "metadata": {},
   "outputs": [],
   "source": [
    "from sklearn.preprocessing import StandardScaler ## standrard scalig \n",
    "scaler = StandardScaler() #initialise to a variable\n",
    "scaler.fit(X_train,y_train) # we are finding the values of mean and sd from the td\n",
    "X_train_scaled = scaler.transform(X_train) # fit (mean, sd) and then transform the training data\n",
    "X_test_scaled = scaler.transform(X_test) # transform the test data "
   ]
  },
  {
   "cell_type": "markdown",
   "metadata": {},
   "source": [
    "MODEL TRAINING"
   ]
  },
  {
   "cell_type": "code",
   "execution_count": 15,
   "metadata": {},
   "outputs": [
    {
     "data": {
      "text/plain": [
       "LinearRegression()"
      ]
     },
     "execution_count": 15,
     "metadata": {},
     "output_type": "execute_result"
    }
   ],
   "source": [
    "from sklearn.linear_model import LinearRegression\n",
    "regressor = LinearRegression()\n",
    "regressor.fit(X_train_scaled, y_train)"
   ]
  },
  {
   "cell_type": "code",
   "execution_count": 16,
   "metadata": {},
   "outputs": [
    {
     "data": {
      "text/html": [
       "<div>\n",
       "<style scoped>\n",
       "    .dataframe tbody tr th:only-of-type {\n",
       "        vertical-align: middle;\n",
       "    }\n",
       "\n",
       "    .dataframe tbody tr th {\n",
       "        vertical-align: top;\n",
       "    }\n",
       "\n",
       "    .dataframe thead th {\n",
       "        text-align: right;\n",
       "    }\n",
       "</style>\n",
       "<table border=\"1\" class=\"dataframe\">\n",
       "  <thead>\n",
       "    <tr style=\"text-align: right;\">\n",
       "      <th></th>\n",
       "      <th>Coefficient</th>\n",
       "    </tr>\n",
       "  </thead>\n",
       "  <tbody>\n",
       "    <tr>\n",
       "      <th>Price</th>\n",
       "      <td>-1450.118086</td>\n",
       "    </tr>\n",
       "  </tbody>\n",
       "</table>\n",
       "</div>"
      ],
      "text/plain": [
       "       Coefficient\n",
       "Price -1450.118086"
      ]
     },
     "execution_count": 16,
     "metadata": {},
     "output_type": "execute_result"
    }
   ],
   "source": [
    "coeff_df = pd.DataFrame(regressor.coef_,['Price'], columns=['Coefficient'])\n",
    "y_pred = regressor.predict(X_test_scaled)\n",
    "coeff_df"
   ]
  },
  {
   "cell_type": "code",
   "execution_count": 17,
   "metadata": {},
   "outputs": [
    {
     "data": {
      "text/plain": [
       "array([20612.79639166, 20851.47069916, 21054.27487951, 22370.43262142,\n",
       "       20828.36205956, 21270.35790501, 19946.09489399, 18845.50281999,\n",
       "       23650.03042604, 24654.73889097, 20230.81402815, 20935.1101783 ,\n",
       "       20726.95996938, 23388.76483655, 21749.25859281, 20618.31487276,\n",
       "       20820.94660058, 22079.50519602, 21647.51159756, 21015.12815422,\n",
       "       22251.09546767, 20976.8436916 , 20189.25296738, 20656.59933538,\n",
       "       20858.54125306, 19860.2135319 , 20779.38553981, 20283.41205112,\n",
       "       22762.76213699, 21358.13624498, 20432.75594584, 21476.26623098,\n",
       "       20724.89053897, 22153.48733325, 20835.605066  , 21740.80841863,\n",
       "       23731.60047478, 23137.67394659, 22690.15962004, 21955.51182385,\n",
       "       22831.39824564, 24594.5529565 , 21097.90537069, 20323.76594415,\n",
       "       21385.72865047, 19683.44968423, 24239.3007358 , 20135.62022921,\n",
       "       20214.94839499, 20471.21286099, 22288.51766762, 21355.37700443,\n",
       "       22994.53834311, 21606.81279946, 23316.16231961, 23906.46734457,\n",
       "       21799.78718536, 23249.42318883, 24330.35567392, 22972.11951365,\n",
       "       22287.31049988, 18352.46102438, 20646.42463585, 22124.86021255,\n",
       "       24088.40476828, 23028.33903983, 23750.57025355, 20487.59585175,\n",
       "       20233.0559111 , 22232.29814143, 21059.10355047, 22468.21320837,\n",
       "       21514.033336  , 20295.31127599, 22262.99469254, 20224.60573692,\n",
       "       23179.9248175 , 21086.8684085 , 22846.40161613, 20365.84436252,\n",
       "       20952.35543173, 21700.9718832 , 20807.66775544, 20659.87593353,\n",
       "       21980.86234639, 23532.41779764, 21464.71191119, 21271.73752529,\n",
       "       21222.76100554, 19349.92648286, 20679.36306991, 19980.75785339,\n",
       "       23132.50037056, 21721.83863985, 21017.37003717, 21066.34655691,\n",
       "       20150.79605223, 20833.70808812, 21149.81358352, 19974.72201469,\n",
       "       20414.82088227, 20636.07748379, 21615.60787871, 21453.15759139,\n",
       "       22774.14400425, 21337.95929846, 23536.90156353, 20340.83874504,\n",
       "       21490.75224387, 22802.77112495, 19082.2801496 , 21455.2270218 ,\n",
       "       23372.72675086, 21616.98749899, 21207.06782492, 21241.73078431,\n",
       "       21061.69033849, 21762.70989048, 21820.13658441, 21967.92840632,\n",
       "       20293.24184557, 21962.75483029, 20024.73324964, 19642.23352853,\n",
       "       21148.08905818, 21176.71617888, 23712.28579093, 21398.49013801,\n",
       "       22989.88212468, 21518.17219682, 20359.63607129, 21462.29757571,\n",
       "       23953.02952884, 22292.4840759 , 19530.48428629, 20878.71819958,\n",
       "       23208.89684326, 20764.20971679, 22479.59507564, 23013.16321681,\n",
       "       21306.22803215, 20755.58709008, 21596.81055247, 21130.32644715,\n",
       "       21027.54473669, 22143.65753879, 21814.44565078, 21061.86279102,\n",
       "       20753.6901122 , 22370.60507395, 21298.81257317, 21376.41621362,\n",
       "       21019.78437265, 23066.10614485, 19955.92468845, 23681.93414489,\n",
       "       21156.19432729, 20417.58012282, 20137.17230202, 22746.72405129,\n",
       "       20363.94738464])"
      ]
     },
     "execution_count": 17,
     "metadata": {},
     "output_type": "execute_result"
    }
   ],
   "source": [
    "y_pred "
   ]
  },
  {
   "cell_type": "code",
   "execution_count": 18,
   "metadata": {},
   "outputs": [
    {
     "data": {
      "text/plain": [
       "array([14862.0938696 , 16256.23616761, 15802.65286086, 45061.95193515,\n",
       "       12425.38917116, 25618.2818848 , 15174.34661257, 26012.37462483,\n",
       "       33005.77995793, 70755.46671654, 13811.15502229, 20839.14996547,\n",
       "       19774.24906607, 32746.1313865 , 25959.12203037, 15724.25217039,\n",
       "       24852.49528068, 22004.93043754, 20676.16551095, 14398.92269258,\n",
       "       10354.04385207, 13106.90042366, 19204.80934142, 21562.04757786,\n",
       "       20406.09950289, 17768.05950543, 26698.07815105, 16345.94374691,\n",
       "       19682.03501065, 11472.02276142, 10770.10655376, 11615.02101757,\n",
       "       43892.46788041, 31002.73441998, 20017.96843019, 25508.21095611,\n",
       "       18957.8900429 , 17202.8340553 , 35129.34077102, 23547.23944288,\n",
       "       11318.00808925, 19446.88294074, 31970.54207548, 16300.46523985,\n",
       "       19294.78750435, 11464.62885878, 20698.07708317, 14077.96885276,\n",
       "       16713.98468931,  9482.21940385, 15821.94971816, 12507.48526743,\n",
       "       13681.69800349, 13998.12927577, 18910.80428599, 14061.12276502,\n",
       "       38600.23956094, 17089.9188297 , 14894.98259253, 35622.13949546,\n",
       "       13072.84163053, 21536.74173018, 39547.58789964, 11700.11148611,\n",
       "       32197.34046608, 27825.94997323, 18173.97808395, 18566.07070328,\n",
       "       20221.80881128, 13167.70232128, 25996.80640185, 15077.17584377,\n",
       "       19409.75260749, 13230.91867447, 41419.03726221, 22894.43867615,\n",
       "       17542.03608328, 15623.91976458, 21607.77256555, 17839.80077059,\n",
       "       30075.99472617, 34355.00372769, 20109.90412128, 13744.84985213,\n",
       "       37383.50349337, 10971.09561435, 12828.03097737, 16456.9746439 ,\n",
       "       15731.13289685, 24405.06675968, 30315.16944198, 23249.84168514,\n",
       "       38990.60733462, 33358.76777138, 16472.8976476 , 15730.04626622,\n",
       "       15797.19576038, 13159.82154419, 29197.79130048, 19448.22633022,\n",
       "       39691.72740095, 27425.84391257, 15568.97423746, 23578.16486067,\n",
       "       14678.10533441, 11699.03391564, 21745.02944094, 15967.24540008,\n",
       "       33586.90609204, 14198.09245886, 17808.19899602, 12045.92070494,\n",
       "       30800.65838931, 19075.6787522 , 41671.58314009, 14185.02155274,\n",
       "       29664.70268696, 21908.36662462, 17891.63377541, 12791.75108873,\n",
       "       16803.12274986, 29595.79428787, 13545.03089634, 20902.10379431,\n",
       "       15253.86856608, 16516.95554904, 15747.80396937, 16106.82722092,\n",
       "       21335.85248489, 18004.87041475, 21698.01474551, 16175.95760421,\n",
       "       15053.93373473, 27284.7513282 , 12234.88805327, 30731.94165479,\n",
       "       39713.66792194, 29844.20400365, 16218.84786194, 17322.07840429,\n",
       "       41371.37927274, 60567.54909331, 15595.88413264, 13991.04005707,\n",
       "       23274.48071142, 17458.22152921, 15977.91108364, 17158.92199788,\n",
       "       27241.43617796, 15128.99223584, 13308.83374945, 17316.09660344,\n",
       "       33287.40959869, 26060.33534956, 17645.74504414, 14642.32357743,\n",
       "       18548.97859264, 36332.89468501, 21683.03146355, 18040.14400647,\n",
       "       17394.0213978 ])"
      ]
     },
     "execution_count": 18,
     "metadata": {},
     "output_type": "execute_result"
    }
   ],
   "source": [
    "y_test"
   ]
  },
  {
   "cell_type": "code",
   "execution_count": 19,
   "metadata": {},
   "outputs": [
    {
     "data": {
      "text/plain": [
       "21286.771470559215"
      ]
     },
     "execution_count": 19,
     "metadata": {},
     "output_type": "execute_result"
    }
   ],
   "source": [
    "regressor.intercept_ # c "
   ]
  },
  {
   "cell_type": "code",
   "execution_count": 20,
   "metadata": {},
   "outputs": [
    {
     "data": {
      "text/html": [
       "<div>\n",
       "<style scoped>\n",
       "    .dataframe tbody tr th:only-of-type {\n",
       "        vertical-align: middle;\n",
       "    }\n",
       "\n",
       "    .dataframe tbody tr th {\n",
       "        vertical-align: top;\n",
       "    }\n",
       "\n",
       "    .dataframe thead th {\n",
       "        text-align: right;\n",
       "    }\n",
       "</style>\n",
       "<table border=\"1\" class=\"dataframe\">\n",
       "  <thead>\n",
       "    <tr style=\"text-align: right;\">\n",
       "      <th></th>\n",
       "      <th>Actual</th>\n",
       "      <th>Predicted</th>\n",
       "    </tr>\n",
       "  </thead>\n",
       "  <tbody>\n",
       "    <tr>\n",
       "      <th>0</th>\n",
       "      <td>14862.093870</td>\n",
       "      <td>20612.796392</td>\n",
       "    </tr>\n",
       "    <tr>\n",
       "      <th>1</th>\n",
       "      <td>16256.236168</td>\n",
       "      <td>20851.470699</td>\n",
       "    </tr>\n",
       "    <tr>\n",
       "      <th>2</th>\n",
       "      <td>15802.652861</td>\n",
       "      <td>21054.274880</td>\n",
       "    </tr>\n",
       "    <tr>\n",
       "      <th>3</th>\n",
       "      <td>45061.951935</td>\n",
       "      <td>22370.432621</td>\n",
       "    </tr>\n",
       "    <tr>\n",
       "      <th>4</th>\n",
       "      <td>12425.389171</td>\n",
       "      <td>20828.362060</td>\n",
       "    </tr>\n",
       "    <tr>\n",
       "      <th>...</th>\n",
       "      <td>...</td>\n",
       "      <td>...</td>\n",
       "    </tr>\n",
       "    <tr>\n",
       "      <th>156</th>\n",
       "      <td>18548.978593</td>\n",
       "      <td>21156.194327</td>\n",
       "    </tr>\n",
       "    <tr>\n",
       "      <th>157</th>\n",
       "      <td>36332.894685</td>\n",
       "      <td>20417.580123</td>\n",
       "    </tr>\n",
       "    <tr>\n",
       "      <th>158</th>\n",
       "      <td>21683.031464</td>\n",
       "      <td>20137.172302</td>\n",
       "    </tr>\n",
       "    <tr>\n",
       "      <th>159</th>\n",
       "      <td>18040.144006</td>\n",
       "      <td>22746.724051</td>\n",
       "    </tr>\n",
       "    <tr>\n",
       "      <th>160</th>\n",
       "      <td>17394.021398</td>\n",
       "      <td>20363.947385</td>\n",
       "    </tr>\n",
       "  </tbody>\n",
       "</table>\n",
       "<p>161 rows × 2 columns</p>\n",
       "</div>"
      ],
      "text/plain": [
       "           Actual     Predicted\n",
       "0    14862.093870  20612.796392\n",
       "1    16256.236168  20851.470699\n",
       "2    15802.652861  21054.274880\n",
       "3    45061.951935  22370.432621\n",
       "4    12425.389171  20828.362060\n",
       "..            ...           ...\n",
       "156  18548.978593  21156.194327\n",
       "157  36332.894685  20417.580123\n",
       "158  21683.031464  20137.172302\n",
       "159  18040.144006  22746.724051\n",
       "160  17394.021398  20363.947385\n",
       "\n",
       "[161 rows x 2 columns]"
      ]
     },
     "execution_count": 20,
     "metadata": {},
     "output_type": "execute_result"
    }
   ],
   "source": [
    "df = pd.DataFrame({'Actual': y_test, 'Predicted': y_pred})\n",
    "df"
   ]
  },
  {
   "cell_type": "code",
   "execution_count": 21,
   "metadata": {},
   "outputs": [
    {
     "name": "stdout",
     "output_type": "stream",
     "text": [
      "R2- SCORE: 0.01651822401249481\n"
     ]
    }
   ],
   "source": [
    "from sklearn import metrics\n",
    "print('R2- SCORE:', metrics.r2_score(y_test,y_pred))"
   ]
  },
  {
   "cell_type": "raw",
   "metadata": {},
   "source": [
    "The given model has no good fit.\n",
    "\n",
    "\n",
    "TASK 2"
   ]
  },
  {
   "cell_type": "code",
   "execution_count": 22,
   "metadata": {},
   "outputs": [
    {
     "data": {
      "text/html": [
       "<div>\n",
       "<style scoped>\n",
       "    .dataframe tbody tr th:only-of-type {\n",
       "        vertical-align: middle;\n",
       "    }\n",
       "\n",
       "    .dataframe tbody tr th {\n",
       "        vertical-align: top;\n",
       "    }\n",
       "\n",
       "    .dataframe thead th {\n",
       "        text-align: right;\n",
       "    }\n",
       "</style>\n",
       "<table border=\"1\" class=\"dataframe\">\n",
       "  <thead>\n",
       "    <tr style=\"text-align: right;\">\n",
       "      <th></th>\n",
       "      <th>Price</th>\n",
       "      <th>Mileage</th>\n",
       "      <th>Make</th>\n",
       "      <th>Model</th>\n",
       "      <th>Trim</th>\n",
       "      <th>Type</th>\n",
       "      <th>Cylinder</th>\n",
       "      <th>Liter</th>\n",
       "      <th>Doors</th>\n",
       "      <th>Cruise</th>\n",
       "      <th>Sound</th>\n",
       "      <th>Leather</th>\n",
       "    </tr>\n",
       "  </thead>\n",
       "  <tbody>\n",
       "    <tr>\n",
       "      <th>0</th>\n",
       "      <td>17314.103129</td>\n",
       "      <td>8221</td>\n",
       "      <td>Buick</td>\n",
       "      <td>Century</td>\n",
       "      <td>Sedan 4D</td>\n",
       "      <td>Sedan</td>\n",
       "      <td>6</td>\n",
       "      <td>3.1</td>\n",
       "      <td>4</td>\n",
       "      <td>1</td>\n",
       "      <td>1</td>\n",
       "      <td>1</td>\n",
       "    </tr>\n",
       "    <tr>\n",
       "      <th>1</th>\n",
       "      <td>17542.036083</td>\n",
       "      <td>9135</td>\n",
       "      <td>Buick</td>\n",
       "      <td>Century</td>\n",
       "      <td>Sedan 4D</td>\n",
       "      <td>Sedan</td>\n",
       "      <td>6</td>\n",
       "      <td>3.1</td>\n",
       "      <td>4</td>\n",
       "      <td>1</td>\n",
       "      <td>1</td>\n",
       "      <td>0</td>\n",
       "    </tr>\n",
       "    <tr>\n",
       "      <th>2</th>\n",
       "      <td>16218.847862</td>\n",
       "      <td>13196</td>\n",
       "      <td>Buick</td>\n",
       "      <td>Century</td>\n",
       "      <td>Sedan 4D</td>\n",
       "      <td>Sedan</td>\n",
       "      <td>6</td>\n",
       "      <td>3.1</td>\n",
       "      <td>4</td>\n",
       "      <td>1</td>\n",
       "      <td>1</td>\n",
       "      <td>0</td>\n",
       "    </tr>\n",
       "    <tr>\n",
       "      <th>3</th>\n",
       "      <td>16336.913140</td>\n",
       "      <td>16342</td>\n",
       "      <td>Buick</td>\n",
       "      <td>Century</td>\n",
       "      <td>Sedan 4D</td>\n",
       "      <td>Sedan</td>\n",
       "      <td>6</td>\n",
       "      <td>3.1</td>\n",
       "      <td>4</td>\n",
       "      <td>1</td>\n",
       "      <td>0</td>\n",
       "      <td>0</td>\n",
       "    </tr>\n",
       "    <tr>\n",
       "      <th>4</th>\n",
       "      <td>16339.170324</td>\n",
       "      <td>19832</td>\n",
       "      <td>Buick</td>\n",
       "      <td>Century</td>\n",
       "      <td>Sedan 4D</td>\n",
       "      <td>Sedan</td>\n",
       "      <td>6</td>\n",
       "      <td>3.1</td>\n",
       "      <td>4</td>\n",
       "      <td>1</td>\n",
       "      <td>0</td>\n",
       "      <td>1</td>\n",
       "    </tr>\n",
       "  </tbody>\n",
       "</table>\n",
       "</div>"
      ],
      "text/plain": [
       "          Price  Mileage   Make    Model      Trim   Type  Cylinder  Liter  \\\n",
       "0  17314.103129     8221  Buick  Century  Sedan 4D  Sedan         6    3.1   \n",
       "1  17542.036083     9135  Buick  Century  Sedan 4D  Sedan         6    3.1   \n",
       "2  16218.847862    13196  Buick  Century  Sedan 4D  Sedan         6    3.1   \n",
       "3  16336.913140    16342  Buick  Century  Sedan 4D  Sedan         6    3.1   \n",
       "4  16339.170324    19832  Buick  Century  Sedan 4D  Sedan         6    3.1   \n",
       "\n",
       "   Doors  Cruise  Sound  Leather  \n",
       "0      4       1      1        1  \n",
       "1      4       1      1        0  \n",
       "2      4       1      1        0  \n",
       "3      4       1      0        0  \n",
       "4      4       1      0        1  "
      ]
     },
     "execution_count": 22,
     "metadata": {},
     "output_type": "execute_result"
    }
   ],
   "source": [
    "df = pd.read_csv(\"car_data.csv\")\n",
    "df.head()"
   ]
  },
  {
   "cell_type": "code",
   "execution_count": 23,
   "metadata": {},
   "outputs": [
    {
     "name": "stdout",
     "output_type": "stream",
     "text": [
      "['Price', 'Mileage', 'Make', 'Model', 'Trim', 'Type', 'Cylinder', 'Liter', 'Doors', 'Cruise', 'Sound', 'Leather']\n"
     ]
    }
   ],
   "source": [
    "b = []\n",
    "for i in df.keys():\n",
    "  b.append(i)\n",
    "print(b) "
   ]
  },
  {
   "cell_type": "code",
   "execution_count": 24,
   "metadata": {},
   "outputs": [],
   "source": [
    "# Use mileage, cylinders, liters, doors, cruise, sound, and leather \n",
    "X = df[['Mileage','Cylinder', 'Liter', 'Doors', 'Cruise', 'Sound', 'Leather']].values#array of features\n",
    "y = df['Price'].values"
   ]
  },
  {
   "cell_type": "code",
   "execution_count": 25,
   "metadata": {},
   "outputs": [],
   "source": [
    "from sklearn.model_selection import train_test_split\n",
    "X_train, X_test, y_train, y_test = train_test_split(X, y, test_size=0.2, random_state=0)"
   ]
  },
  {
   "cell_type": "code",
   "execution_count": 26,
   "metadata": {},
   "outputs": [],
   "source": [
    "from sklearn.preprocessing import StandardScaler ## standrard scalig \n",
    "scaler = StandardScaler() #initialise to a variable\n",
    "scaler.fit(X_train,y_train) # we are finding the values of mean and sd from the td\n",
    "X_train_scaled = scaler.transform(X_train) # fit (mean, sd) and then transform the training data\n",
    "X_test_scaled = scaler.transform(X_test) # transform the test data "
   ]
  },
  {
   "cell_type": "raw",
   "metadata": {},
   "source": [
    "MODEL TRAINING"
   ]
  },
  {
   "cell_type": "code",
   "execution_count": 27,
   "metadata": {},
   "outputs": [
    {
     "data": {
      "text/plain": [
       "LinearRegression()"
      ]
     },
     "execution_count": 27,
     "metadata": {},
     "output_type": "execute_result"
    }
   ],
   "source": [
    "from sklearn.linear_model import LinearRegression\n",
    "regressor = LinearRegression()\n",
    "regressor.fit(X_train_scaled, y_train)"
   ]
  },
  {
   "cell_type": "code",
   "execution_count": 28,
   "metadata": {},
   "outputs": [
    {
     "data": {
      "text/html": [
       "<div>\n",
       "<style scoped>\n",
       "    .dataframe tbody tr th:only-of-type {\n",
       "        vertical-align: middle;\n",
       "    }\n",
       "\n",
       "    .dataframe tbody tr th {\n",
       "        vertical-align: top;\n",
       "    }\n",
       "\n",
       "    .dataframe thead th {\n",
       "        text-align: right;\n",
       "    }\n",
       "</style>\n",
       "<table border=\"1\" class=\"dataframe\">\n",
       "  <thead>\n",
       "    <tr style=\"text-align: right;\">\n",
       "      <th></th>\n",
       "      <th>Coefficient</th>\n",
       "    </tr>\n",
       "  </thead>\n",
       "  <tbody>\n",
       "    <tr>\n",
       "      <th>Mileage</th>\n",
       "      <td>-1371.001168</td>\n",
       "    </tr>\n",
       "    <tr>\n",
       "      <th>Cylinder</th>\n",
       "      <td>5362.757156</td>\n",
       "    </tr>\n",
       "    <tr>\n",
       "      <th>Liter</th>\n",
       "      <td>-636.102794</td>\n",
       "    </tr>\n",
       "    <tr>\n",
       "      <th>Doors</th>\n",
       "      <td>-1161.421897</td>\n",
       "    </tr>\n",
       "    <tr>\n",
       "      <th>Cruise</th>\n",
       "      <td>2605.283666</td>\n",
       "    </tr>\n",
       "    <tr>\n",
       "      <th>Sound</th>\n",
       "      <td>-1046.235630</td>\n",
       "    </tr>\n",
       "    <tr>\n",
       "      <th>Leather</th>\n",
       "      <td>1599.923922</td>\n",
       "    </tr>\n",
       "  </tbody>\n",
       "</table>\n",
       "</div>"
      ],
      "text/plain": [
       "          Coefficient\n",
       "Mileage  -1371.001168\n",
       "Cylinder  5362.757156\n",
       "Liter     -636.102794\n",
       "Doors    -1161.421897\n",
       "Cruise    2605.283666\n",
       "Sound    -1046.235630\n",
       "Leather   1599.923922"
      ]
     },
     "execution_count": 28,
     "metadata": {},
     "output_type": "execute_result"
    }
   ],
   "source": [
    "coeff_df = pd.DataFrame(regressor.coef_,[['Mileage','Cylinder', 'Liter', 'Doors', 'Cruise', 'Sound', 'Leather']], columns=['Coefficient'])\n",
    "y_pred = regressor.predict(X_test_scaled)\n",
    "coeff_df"
   ]
  },
  {
   "cell_type": "code",
   "execution_count": 29,
   "metadata": {},
   "outputs": [
    {
     "data": {
      "text/plain": [
       "array([-1371.0011684 ,  5362.75715593,  -636.10279397, -1161.42189697,\n",
       "        2605.28366558, -1046.23562996,  1599.92392244])"
      ]
     },
     "execution_count": 29,
     "metadata": {},
     "output_type": "execute_result"
    }
   ],
   "source": [
    "regressor.coef_"
   ]
  },
  {
   "cell_type": "code",
   "execution_count": 30,
   "metadata": {},
   "outputs": [
    {
     "data": {
      "text/plain": [
       "21286.771470559223"
      ]
     },
     "execution_count": 30,
     "metadata": {},
     "output_type": "execute_result"
    }
   ],
   "source": [
    "regressor.intercept_ # c "
   ]
  },
  {
   "cell_type": "code",
   "execution_count": 31,
   "metadata": {},
   "outputs": [
    {
     "data": {
      "text/html": [
       "<div>\n",
       "<style scoped>\n",
       "    .dataframe tbody tr th:only-of-type {\n",
       "        vertical-align: middle;\n",
       "    }\n",
       "\n",
       "    .dataframe tbody tr th {\n",
       "        vertical-align: top;\n",
       "    }\n",
       "\n",
       "    .dataframe thead th {\n",
       "        text-align: right;\n",
       "    }\n",
       "</style>\n",
       "<table border=\"1\" class=\"dataframe\">\n",
       "  <thead>\n",
       "    <tr style=\"text-align: right;\">\n",
       "      <th></th>\n",
       "      <th>Actual</th>\n",
       "      <th>Predicted</th>\n",
       "    </tr>\n",
       "  </thead>\n",
       "  <tbody>\n",
       "    <tr>\n",
       "      <th>0</th>\n",
       "      <td>14862.093870</td>\n",
       "      <td>26841.569929</td>\n",
       "    </tr>\n",
       "    <tr>\n",
       "      <th>1</th>\n",
       "      <td>16256.236168</td>\n",
       "      <td>23107.117980</td>\n",
       "    </tr>\n",
       "    <tr>\n",
       "      <th>2</th>\n",
       "      <td>15802.652861</td>\n",
       "      <td>10715.787911</td>\n",
       "    </tr>\n",
       "    <tr>\n",
       "      <th>3</th>\n",
       "      <td>45061.951935</td>\n",
       "      <td>33065.377426</td>\n",
       "    </tr>\n",
       "    <tr>\n",
       "      <th>4</th>\n",
       "      <td>12425.389171</td>\n",
       "      <td>14351.796236</td>\n",
       "    </tr>\n",
       "    <tr>\n",
       "      <th>...</th>\n",
       "      <td>...</td>\n",
       "      <td>...</td>\n",
       "    </tr>\n",
       "    <tr>\n",
       "      <th>156</th>\n",
       "      <td>18548.978593</td>\n",
       "      <td>23567.742988</td>\n",
       "    </tr>\n",
       "    <tr>\n",
       "      <th>157</th>\n",
       "      <td>36332.894685</td>\n",
       "      <td>33476.069241</td>\n",
       "    </tr>\n",
       "    <tr>\n",
       "      <th>158</th>\n",
       "      <td>21683.031464</td>\n",
       "      <td>20174.792218</td>\n",
       "    </tr>\n",
       "    <tr>\n",
       "      <th>159</th>\n",
       "      <td>18040.144006</td>\n",
       "      <td>31235.598323</td>\n",
       "    </tr>\n",
       "    <tr>\n",
       "      <th>160</th>\n",
       "      <td>17394.021398</td>\n",
       "      <td>20389.194691</td>\n",
       "    </tr>\n",
       "  </tbody>\n",
       "</table>\n",
       "<p>161 rows × 2 columns</p>\n",
       "</div>"
      ],
      "text/plain": [
       "           Actual     Predicted\n",
       "0    14862.093870  26841.569929\n",
       "1    16256.236168  23107.117980\n",
       "2    15802.652861  10715.787911\n",
       "3    45061.951935  33065.377426\n",
       "4    12425.389171  14351.796236\n",
       "..            ...           ...\n",
       "156  18548.978593  23567.742988\n",
       "157  36332.894685  33476.069241\n",
       "158  21683.031464  20174.792218\n",
       "159  18040.144006  31235.598323\n",
       "160  17394.021398  20389.194691\n",
       "\n",
       "[161 rows x 2 columns]"
      ]
     },
     "execution_count": 31,
     "metadata": {},
     "output_type": "execute_result"
    }
   ],
   "source": [
    "df = pd.DataFrame({'Actual': y_test, 'Predicted': y_pred})\n",
    "df"
   ]
  },
  {
   "cell_type": "code",
   "execution_count": 32,
   "metadata": {},
   "outputs": [
    {
     "name": "stdout",
     "output_type": "stream",
     "text": [
      "R2- SCORE: 0.34021415975117064\n"
     ]
    }
   ],
   "source": [
    "from sklearn import metrics\n",
    "print('R2- SCORE:', metrics.r2_score(y_test,y_pred))"
   ]
  },
  {
   "cell_type": "raw",
   "metadata": {},
   "source": [
    "Tasks, Hard Mode"
   ]
  },
  {
   "cell_type": "code",
   "execution_count": 33,
   "metadata": {},
   "outputs": [
    {
     "data": {
      "text/plain": [
       "[('Mileage', False),\n",
       " ('Cylinder', True),\n",
       " ('Liter', False),\n",
       " ('Doors', False),\n",
       " ('Cruise', True),\n",
       " ('Sound', False),\n",
       " ('Leather', True)]"
      ]
     },
     "execution_count": 33,
     "metadata": {},
     "output_type": "execute_result"
    }
   ],
   "source": [
    "from sklearn.feature_selection import RFE\n",
    "estimator = LinearRegression()\n",
    "selector = RFE(estimator, n_features_to_select=3, step=1)\n",
    "selector = selector.fit(X_train_scaled, y_train)\n",
    "list(zip(['Mileage','Cylinder', 'Liter', 'Doors', 'Cruise', 'Sound', 'Leather'],selector.support_))"
   ]
  },
  {
   "cell_type": "raw",
   "metadata": {},
   "source": [
    "The best combination of factors to predict price are 'Cylinder', 'Cruise' and 'Leather'\n",
    "\n",
    "\n",
    "Fitting by dummy variables\n",
    "\n",
    "\n",
    "Research dummy variables in scikit-learn to see how to use the make, model, and body type."
   ]
  },
  {
   "cell_type": "code",
   "execution_count": 34,
   "metadata": {},
   "outputs": [],
   "source": [
    "df = pd.read_csv(\"car_data.csv\")"
   ]
  },
  {
   "cell_type": "code",
   "execution_count": 35,
   "metadata": {},
   "outputs": [
    {
     "name": "stdout",
     "output_type": "stream",
     "text": [
      "['Price', 'Mileage', 'Make', 'Model', 'Trim', 'Type', 'Cylinder', 'Liter', 'Doors', 'Cruise', 'Sound', 'Leather']\n"
     ]
    }
   ],
   "source": [
    "b = []\n",
    "for i in df.keys():\n",
    "  b.append(i)\n",
    "print(b)  "
   ]
  },
  {
   "cell_type": "code",
   "execution_count": 36,
   "metadata": {},
   "outputs": [],
   "source": [
    "df = pd.get_dummies(df, columns = ['Make', 'Model', 'Type'])"
   ]
  },
  {
   "cell_type": "code",
   "execution_count": 37,
   "metadata": {},
   "outputs": [
    {
     "name": "stdout",
     "output_type": "stream",
     "text": [
      "['Price', 'Mileage', 'Trim', 'Cylinder', 'Liter', 'Doors', 'Cruise', 'Sound', 'Leather', 'Make_Buick', 'Make_Cadillac', 'Make_Chevrolet', 'Make_Pontiac', 'Make_SAAB', 'Make_Saturn', 'Model_9-2X AWD', 'Model_9_3', 'Model_9_3 HO', 'Model_9_5', 'Model_9_5 HO', 'Model_AVEO', 'Model_Bonneville', 'Model_CST-V', 'Model_CTS', 'Model_Cavalier', 'Model_Century', 'Model_Classic', 'Model_Cobalt', 'Model_Corvette', 'Model_Deville', 'Model_G6', 'Model_GTO', 'Model_Grand Am', 'Model_Grand Prix', 'Model_Impala', 'Model_Ion', 'Model_L Series', 'Model_Lacrosse', 'Model_Lesabre', 'Model_Malibu', 'Model_Monte Carlo', 'Model_Park Avenue', 'Model_STS-V6', 'Model_STS-V8', 'Model_Sunfire', 'Model_Vibe', 'Model_XLR-V8', 'Type_Convertible', 'Type_Coupe', 'Type_Hatchback', 'Type_Sedan', 'Type_Wagon']\n"
     ]
    }
   ],
   "source": [
    "b = []\n",
    "for i in df.keys():\n",
    "  b.append(i)\n",
    "print(b)  "
   ]
  },
  {
   "cell_type": "markdown",
   "metadata": {},
   "source": [
    "We don't want Price and Trim in the feature set b, we newly defined from the dummies"
   ]
  },
  {
   "cell_type": "code",
   "execution_count": 38,
   "metadata": {},
   "outputs": [
    {
     "name": "stdout",
     "output_type": "stream",
     "text": [
      "['Mileage', 'Cylinder', 'Liter', 'Doors', 'Cruise', 'Sound', 'Leather', 'Make_Buick', 'Make_Cadillac', 'Make_Chevrolet', 'Make_Pontiac', 'Make_SAAB', 'Make_Saturn', 'Model_9-2X AWD', 'Model_9_3', 'Model_9_3 HO', 'Model_9_5', 'Model_9_5 HO', 'Model_AVEO', 'Model_Bonneville', 'Model_CST-V', 'Model_CTS', 'Model_Cavalier', 'Model_Century', 'Model_Classic', 'Model_Cobalt', 'Model_Corvette', 'Model_Deville', 'Model_G6', 'Model_GTO', 'Model_Grand Am', 'Model_Grand Prix', 'Model_Impala', 'Model_Ion', 'Model_L Series', 'Model_Lacrosse', 'Model_Lesabre', 'Model_Malibu', 'Model_Monte Carlo', 'Model_Park Avenue', 'Model_STS-V6', 'Model_STS-V8', 'Model_Sunfire', 'Model_Vibe', 'Model_XLR-V8', 'Type_Convertible', 'Type_Coupe', 'Type_Hatchback', 'Type_Sedan', 'Type_Wagon']\n"
     ]
    }
   ],
   "source": [
    "b.remove('Price')\n",
    "b.remove('Trim')\n",
    "print(b)"
   ]
  },
  {
   "cell_type": "markdown",
   "metadata": {},
   "source": [
    "Now we are taking the feature set as b"
   ]
  },
  {
   "cell_type": "code",
   "execution_count": 39,
   "metadata": {},
   "outputs": [
    {
     "data": {
      "text/html": [
       "<div>\n",
       "<style scoped>\n",
       "    .dataframe tbody tr th:only-of-type {\n",
       "        vertical-align: middle;\n",
       "    }\n",
       "\n",
       "    .dataframe tbody tr th {\n",
       "        vertical-align: top;\n",
       "    }\n",
       "\n",
       "    .dataframe thead th {\n",
       "        text-align: right;\n",
       "    }\n",
       "</style>\n",
       "<table border=\"1\" class=\"dataframe\">\n",
       "  <thead>\n",
       "    <tr style=\"text-align: right;\">\n",
       "      <th></th>\n",
       "      <th>Price</th>\n",
       "      <th>Mileage</th>\n",
       "      <th>Trim</th>\n",
       "      <th>Cylinder</th>\n",
       "      <th>Liter</th>\n",
       "      <th>Doors</th>\n",
       "      <th>Cruise</th>\n",
       "      <th>Sound</th>\n",
       "      <th>Leather</th>\n",
       "      <th>Make_Buick</th>\n",
       "      <th>...</th>\n",
       "      <th>Model_STS-V6</th>\n",
       "      <th>Model_STS-V8</th>\n",
       "      <th>Model_Sunfire</th>\n",
       "      <th>Model_Vibe</th>\n",
       "      <th>Model_XLR-V8</th>\n",
       "      <th>Type_Convertible</th>\n",
       "      <th>Type_Coupe</th>\n",
       "      <th>Type_Hatchback</th>\n",
       "      <th>Type_Sedan</th>\n",
       "      <th>Type_Wagon</th>\n",
       "    </tr>\n",
       "  </thead>\n",
       "  <tbody>\n",
       "    <tr>\n",
       "      <th>0</th>\n",
       "      <td>17314.103129</td>\n",
       "      <td>8221</td>\n",
       "      <td>Sedan 4D</td>\n",
       "      <td>6</td>\n",
       "      <td>3.1</td>\n",
       "      <td>4</td>\n",
       "      <td>1</td>\n",
       "      <td>1</td>\n",
       "      <td>1</td>\n",
       "      <td>1</td>\n",
       "      <td>...</td>\n",
       "      <td>0</td>\n",
       "      <td>0</td>\n",
       "      <td>0</td>\n",
       "      <td>0</td>\n",
       "      <td>0</td>\n",
       "      <td>0</td>\n",
       "      <td>0</td>\n",
       "      <td>0</td>\n",
       "      <td>1</td>\n",
       "      <td>0</td>\n",
       "    </tr>\n",
       "    <tr>\n",
       "      <th>1</th>\n",
       "      <td>17542.036083</td>\n",
       "      <td>9135</td>\n",
       "      <td>Sedan 4D</td>\n",
       "      <td>6</td>\n",
       "      <td>3.1</td>\n",
       "      <td>4</td>\n",
       "      <td>1</td>\n",
       "      <td>1</td>\n",
       "      <td>0</td>\n",
       "      <td>1</td>\n",
       "      <td>...</td>\n",
       "      <td>0</td>\n",
       "      <td>0</td>\n",
       "      <td>0</td>\n",
       "      <td>0</td>\n",
       "      <td>0</td>\n",
       "      <td>0</td>\n",
       "      <td>0</td>\n",
       "      <td>0</td>\n",
       "      <td>1</td>\n",
       "      <td>0</td>\n",
       "    </tr>\n",
       "    <tr>\n",
       "      <th>2</th>\n",
       "      <td>16218.847862</td>\n",
       "      <td>13196</td>\n",
       "      <td>Sedan 4D</td>\n",
       "      <td>6</td>\n",
       "      <td>3.1</td>\n",
       "      <td>4</td>\n",
       "      <td>1</td>\n",
       "      <td>1</td>\n",
       "      <td>0</td>\n",
       "      <td>1</td>\n",
       "      <td>...</td>\n",
       "      <td>0</td>\n",
       "      <td>0</td>\n",
       "      <td>0</td>\n",
       "      <td>0</td>\n",
       "      <td>0</td>\n",
       "      <td>0</td>\n",
       "      <td>0</td>\n",
       "      <td>0</td>\n",
       "      <td>1</td>\n",
       "      <td>0</td>\n",
       "    </tr>\n",
       "    <tr>\n",
       "      <th>3</th>\n",
       "      <td>16336.913140</td>\n",
       "      <td>16342</td>\n",
       "      <td>Sedan 4D</td>\n",
       "      <td>6</td>\n",
       "      <td>3.1</td>\n",
       "      <td>4</td>\n",
       "      <td>1</td>\n",
       "      <td>0</td>\n",
       "      <td>0</td>\n",
       "      <td>1</td>\n",
       "      <td>...</td>\n",
       "      <td>0</td>\n",
       "      <td>0</td>\n",
       "      <td>0</td>\n",
       "      <td>0</td>\n",
       "      <td>0</td>\n",
       "      <td>0</td>\n",
       "      <td>0</td>\n",
       "      <td>0</td>\n",
       "      <td>1</td>\n",
       "      <td>0</td>\n",
       "    </tr>\n",
       "    <tr>\n",
       "      <th>4</th>\n",
       "      <td>16339.170324</td>\n",
       "      <td>19832</td>\n",
       "      <td>Sedan 4D</td>\n",
       "      <td>6</td>\n",
       "      <td>3.1</td>\n",
       "      <td>4</td>\n",
       "      <td>1</td>\n",
       "      <td>0</td>\n",
       "      <td>1</td>\n",
       "      <td>1</td>\n",
       "      <td>...</td>\n",
       "      <td>0</td>\n",
       "      <td>0</td>\n",
       "      <td>0</td>\n",
       "      <td>0</td>\n",
       "      <td>0</td>\n",
       "      <td>0</td>\n",
       "      <td>0</td>\n",
       "      <td>0</td>\n",
       "      <td>1</td>\n",
       "      <td>0</td>\n",
       "    </tr>\n",
       "  </tbody>\n",
       "</table>\n",
       "<p>5 rows × 52 columns</p>\n",
       "</div>"
      ],
      "text/plain": [
       "          Price  Mileage      Trim  Cylinder  Liter  Doors  Cruise  Sound  \\\n",
       "0  17314.103129     8221  Sedan 4D         6    3.1      4       1      1   \n",
       "1  17542.036083     9135  Sedan 4D         6    3.1      4       1      1   \n",
       "2  16218.847862    13196  Sedan 4D         6    3.1      4       1      1   \n",
       "3  16336.913140    16342  Sedan 4D         6    3.1      4       1      0   \n",
       "4  16339.170324    19832  Sedan 4D         6    3.1      4       1      0   \n",
       "\n",
       "   Leather  Make_Buick  ...  Model_STS-V6  Model_STS-V8  Model_Sunfire  \\\n",
       "0        1           1  ...             0             0              0   \n",
       "1        0           1  ...             0             0              0   \n",
       "2        0           1  ...             0             0              0   \n",
       "3        0           1  ...             0             0              0   \n",
       "4        1           1  ...             0             0              0   \n",
       "\n",
       "   Model_Vibe  Model_XLR-V8  Type_Convertible  Type_Coupe  Type_Hatchback  \\\n",
       "0           0             0                 0           0               0   \n",
       "1           0             0                 0           0               0   \n",
       "2           0             0                 0           0               0   \n",
       "3           0             0                 0           0               0   \n",
       "4           0             0                 0           0               0   \n",
       "\n",
       "   Type_Sedan  Type_Wagon  \n",
       "0           1           0  \n",
       "1           1           0  \n",
       "2           1           0  \n",
       "3           1           0  \n",
       "4           1           0  \n",
       "\n",
       "[5 rows x 52 columns]"
      ]
     },
     "execution_count": 39,
     "metadata": {},
     "output_type": "execute_result"
    }
   ],
   "source": [
    "df.head()"
   ]
  },
  {
   "cell_type": "code",
   "execution_count": 40,
   "metadata": {},
   "outputs": [],
   "source": [
    "X = df[b].values#array of features\n",
    "y = df['Price'].values"
   ]
  },
  {
   "cell_type": "code",
   "execution_count": 41,
   "metadata": {},
   "outputs": [],
   "source": [
    "from sklearn.model_selection import train_test_split\n",
    "X_train, X_test, y_train, y_test = train_test_split(X, y, test_size=0.2, random_state=0)"
   ]
  },
  {
   "cell_type": "code",
   "execution_count": 42,
   "metadata": {},
   "outputs": [],
   "source": [
    "from sklearn.preprocessing import StandardScaler ## standrard scalig \n",
    "scaler = StandardScaler() #initialise to a variable\n",
    "scaler.fit(X_train,y_train) # we are finding the values of mean and sd from the td\n",
    "X_train_scaled = scaler.transform(X_train) # fit (mean, sd) and then transform the training data\n",
    "X_test_scaled = scaler.transform(X_test) # transform the test data "
   ]
  },
  {
   "cell_type": "markdown",
   "metadata": {},
   "source": [
    "MODEL TRAINING"
   ]
  },
  {
   "cell_type": "code",
   "execution_count": 43,
   "metadata": {},
   "outputs": [
    {
     "data": {
      "text/plain": [
       "LinearRegression()"
      ]
     },
     "execution_count": 43,
     "metadata": {},
     "output_type": "execute_result"
    }
   ],
   "source": [
    "from sklearn.linear_model import LinearRegression\n",
    "regressor = LinearRegression()\n",
    "regressor.fit(X_train_scaled, y_train)"
   ]
  },
  {
   "cell_type": "code",
   "execution_count": 44,
   "metadata": {},
   "outputs": [
    {
     "data": {
      "text/html": [
       "<div>\n",
       "<style scoped>\n",
       "    .dataframe tbody tr th:only-of-type {\n",
       "        vertical-align: middle;\n",
       "    }\n",
       "\n",
       "    .dataframe tbody tr th {\n",
       "        vertical-align: top;\n",
       "    }\n",
       "\n",
       "    .dataframe thead th {\n",
       "        text-align: right;\n",
       "    }\n",
       "</style>\n",
       "<table border=\"1\" class=\"dataframe\">\n",
       "  <thead>\n",
       "    <tr style=\"text-align: right;\">\n",
       "      <th></th>\n",
       "      <th>Coefficient</th>\n",
       "    </tr>\n",
       "  </thead>\n",
       "  <tbody>\n",
       "    <tr>\n",
       "      <th>Mileage</th>\n",
       "      <td>-1.535931e+03</td>\n",
       "    </tr>\n",
       "    <tr>\n",
       "      <th>Cylinder</th>\n",
       "      <td>9.138549e+02</td>\n",
       "    </tr>\n",
       "    <tr>\n",
       "      <th>Liter</th>\n",
       "      <td>1.286387e+03</td>\n",
       "    </tr>\n",
       "    <tr>\n",
       "      <th>Doors</th>\n",
       "      <td>-1.964488e+16</td>\n",
       "    </tr>\n",
       "    <tr>\n",
       "      <th>Cruise</th>\n",
       "      <td>1.188506e+00</td>\n",
       "    </tr>\n",
       "    <tr>\n",
       "      <th>Sound</th>\n",
       "      <td>9.319238e+01</td>\n",
       "    </tr>\n",
       "    <tr>\n",
       "      <th>Leather</th>\n",
       "      <td>1.749560e+02</td>\n",
       "    </tr>\n",
       "    <tr>\n",
       "      <th>Make_Buick</th>\n",
       "      <td>8.067557e+15</td>\n",
       "    </tr>\n",
       "    <tr>\n",
       "      <th>Make_Cadillac</th>\n",
       "      <td>2.782676e+16</td>\n",
       "    </tr>\n",
       "    <tr>\n",
       "      <th>Make_Chevrolet</th>\n",
       "      <td>1.602708e+16</td>\n",
       "    </tr>\n",
       "    <tr>\n",
       "      <th>Make_Pontiac</th>\n",
       "      <td>-6.980780e+15</td>\n",
       "    </tr>\n",
       "    <tr>\n",
       "      <th>Make_SAAB</th>\n",
       "      <td>-6.889271e+15</td>\n",
       "    </tr>\n",
       "    <tr>\n",
       "      <th>Make_Saturn</th>\n",
       "      <td>1.090880e+16</td>\n",
       "    </tr>\n",
       "    <tr>\n",
       "      <th>Model_9-2X AWD</th>\n",
       "      <td>6.094405e+15</td>\n",
       "    </tr>\n",
       "    <tr>\n",
       "      <th>Model_9_3</th>\n",
       "      <td>1.597264e+16</td>\n",
       "    </tr>\n",
       "    <tr>\n",
       "      <th>Model_9_3 HO</th>\n",
       "      <td>2.308225e+16</td>\n",
       "    </tr>\n",
       "    <tr>\n",
       "      <th>Model_9_5</th>\n",
       "      <td>2.115687e+16</td>\n",
       "    </tr>\n",
       "    <tr>\n",
       "      <th>Model_9_5 HO</th>\n",
       "      <td>1.597264e+16</td>\n",
       "    </tr>\n",
       "    <tr>\n",
       "      <th>Model_AVEO</th>\n",
       "      <td>1.536702e+16</td>\n",
       "    </tr>\n",
       "    <tr>\n",
       "      <th>Model_Bonneville</th>\n",
       "      <td>1.988655e+16</td>\n",
       "    </tr>\n",
       "    <tr>\n",
       "      <th>Model_CST-V</th>\n",
       "      <td>3.746233e+13</td>\n",
       "    </tr>\n",
       "    <tr>\n",
       "      <th>Model_CTS</th>\n",
       "      <td>3.945761e+13</td>\n",
       "    </tr>\n",
       "    <tr>\n",
       "      <th>Model_Cavalier</th>\n",
       "      <td>1.408004e+16</td>\n",
       "    </tr>\n",
       "    <tr>\n",
       "      <th>Model_Century</th>\n",
       "      <td>6.389455e+15</td>\n",
       "    </tr>\n",
       "    <tr>\n",
       "      <th>Model_Classic</th>\n",
       "      <td>6.974226e+15</td>\n",
       "    </tr>\n",
       "    <tr>\n",
       "      <th>Model_Cobalt</th>\n",
       "      <td>1.408004e+16</td>\n",
       "    </tr>\n",
       "    <tr>\n",
       "      <th>Model_Corvette</th>\n",
       "      <td>8.507846e+15</td>\n",
       "    </tr>\n",
       "    <tr>\n",
       "      <th>Model_Deville</th>\n",
       "      <td>6.281424e+13</td>\n",
       "    </tr>\n",
       "    <tr>\n",
       "      <th>Model_G6</th>\n",
       "      <td>1.717953e+16</td>\n",
       "    </tr>\n",
       "    <tr>\n",
       "      <th>Model_GTO</th>\n",
       "      <td>1.111162e+16</td>\n",
       "    </tr>\n",
       "    <tr>\n",
       "      <th>Model_Grand Am</th>\n",
       "      <td>1.667990e+16</td>\n",
       "    </tr>\n",
       "    <tr>\n",
       "      <th>Model_Grand Prix</th>\n",
       "      <td>2.069969e+16</td>\n",
       "    </tr>\n",
       "    <tr>\n",
       "      <th>Model_Impala</th>\n",
       "      <td>1.110257e+16</td>\n",
       "    </tr>\n",
       "    <tr>\n",
       "      <th>Model_Ion</th>\n",
       "      <td>1.243377e+16</td>\n",
       "    </tr>\n",
       "    <tr>\n",
       "      <th>Model_L Series</th>\n",
       "      <td>4.685883e+15</td>\n",
       "    </tr>\n",
       "    <tr>\n",
       "      <th>Model_Lacrosse</th>\n",
       "      <td>1.143526e+16</td>\n",
       "    </tr>\n",
       "    <tr>\n",
       "      <th>Model_Lesabre</th>\n",
       "      <td>9.294193e+15</td>\n",
       "    </tr>\n",
       "    <tr>\n",
       "      <th>Model_Malibu</th>\n",
       "      <td>1.452648e+16</td>\n",
       "    </tr>\n",
       "    <tr>\n",
       "      <th>Model_Monte Carlo</th>\n",
       "      <td>1.001841e+16</td>\n",
       "    </tr>\n",
       "    <tr>\n",
       "      <th>Model_Park Avenue</th>\n",
       "      <td>9.591356e+15</td>\n",
       "    </tr>\n",
       "    <tr>\n",
       "      <th>Model_STS-V6</th>\n",
       "      <td>3.945761e+13</td>\n",
       "    </tr>\n",
       "    <tr>\n",
       "      <th>Model_STS-V8</th>\n",
       "      <td>3.534767e+13</td>\n",
       "    </tr>\n",
       "    <tr>\n",
       "      <th>Model_Sunfire</th>\n",
       "      <td>1.257956e+16</td>\n",
       "    </tr>\n",
       "    <tr>\n",
       "      <th>Model_Vibe</th>\n",
       "      <td>1.946511e+16</td>\n",
       "    </tr>\n",
       "    <tr>\n",
       "      <th>Model_XLR-V8</th>\n",
       "      <td>3.534767e+13</td>\n",
       "    </tr>\n",
       "    <tr>\n",
       "      <th>Type_Convertible</th>\n",
       "      <td>-5.665922e+15</td>\n",
       "    </tr>\n",
       "    <tr>\n",
       "      <th>Type_Coupe</th>\n",
       "      <td>-9.247171e+15</td>\n",
       "    </tr>\n",
       "    <tr>\n",
       "      <th>Type_Hatchback</th>\n",
       "      <td>6.149698e+15</td>\n",
       "    </tr>\n",
       "    <tr>\n",
       "      <th>Type_Sedan</th>\n",
       "      <td>1.089275e+16</td>\n",
       "    </tr>\n",
       "    <tr>\n",
       "      <th>Type_Wagon</th>\n",
       "      <td>6.042766e+15</td>\n",
       "    </tr>\n",
       "  </tbody>\n",
       "</table>\n",
       "</div>"
      ],
      "text/plain": [
       "                    Coefficient\n",
       "Mileage           -1.535931e+03\n",
       "Cylinder           9.138549e+02\n",
       "Liter              1.286387e+03\n",
       "Doors             -1.964488e+16\n",
       "Cruise             1.188506e+00\n",
       "Sound              9.319238e+01\n",
       "Leather            1.749560e+02\n",
       "Make_Buick         8.067557e+15\n",
       "Make_Cadillac      2.782676e+16\n",
       "Make_Chevrolet     1.602708e+16\n",
       "Make_Pontiac      -6.980780e+15\n",
       "Make_SAAB         -6.889271e+15\n",
       "Make_Saturn        1.090880e+16\n",
       "Model_9-2X AWD     6.094405e+15\n",
       "Model_9_3          1.597264e+16\n",
       "Model_9_3 HO       2.308225e+16\n",
       "Model_9_5          2.115687e+16\n",
       "Model_9_5 HO       1.597264e+16\n",
       "Model_AVEO         1.536702e+16\n",
       "Model_Bonneville   1.988655e+16\n",
       "Model_CST-V        3.746233e+13\n",
       "Model_CTS          3.945761e+13\n",
       "Model_Cavalier     1.408004e+16\n",
       "Model_Century      6.389455e+15\n",
       "Model_Classic      6.974226e+15\n",
       "Model_Cobalt       1.408004e+16\n",
       "Model_Corvette     8.507846e+15\n",
       "Model_Deville      6.281424e+13\n",
       "Model_G6           1.717953e+16\n",
       "Model_GTO          1.111162e+16\n",
       "Model_Grand Am     1.667990e+16\n",
       "Model_Grand Prix   2.069969e+16\n",
       "Model_Impala       1.110257e+16\n",
       "Model_Ion          1.243377e+16\n",
       "Model_L Series     4.685883e+15\n",
       "Model_Lacrosse     1.143526e+16\n",
       "Model_Lesabre      9.294193e+15\n",
       "Model_Malibu       1.452648e+16\n",
       "Model_Monte Carlo  1.001841e+16\n",
       "Model_Park Avenue  9.591356e+15\n",
       "Model_STS-V6       3.945761e+13\n",
       "Model_STS-V8       3.534767e+13\n",
       "Model_Sunfire      1.257956e+16\n",
       "Model_Vibe         1.946511e+16\n",
       "Model_XLR-V8       3.534767e+13\n",
       "Type_Convertible  -5.665922e+15\n",
       "Type_Coupe        -9.247171e+15\n",
       "Type_Hatchback     6.149698e+15\n",
       "Type_Sedan         1.089275e+16\n",
       "Type_Wagon         6.042766e+15"
      ]
     },
     "execution_count": 44,
     "metadata": {},
     "output_type": "execute_result"
    }
   ],
   "source": [
    "coeff_df = pd.DataFrame(regressor.coef_,[b], columns=['Coefficient'])\n",
    "y_pred = regressor.predict(X_test_scaled)\n",
    "coeff_df"
   ]
  },
  {
   "cell_type": "code",
   "execution_count": 45,
   "metadata": {},
   "outputs": [
    {
     "data": {
      "text/plain": [
       "21322.498510434427"
      ]
     },
     "execution_count": 45,
     "metadata": {},
     "output_type": "execute_result"
    }
   ],
   "source": [
    "regressor.intercept_ # c "
   ]
  },
  {
   "cell_type": "code",
   "execution_count": 46,
   "metadata": {},
   "outputs": [
    {
     "data": {
      "text/html": [
       "<div>\n",
       "<style scoped>\n",
       "    .dataframe tbody tr th:only-of-type {\n",
       "        vertical-align: middle;\n",
       "    }\n",
       "\n",
       "    .dataframe tbody tr th {\n",
       "        vertical-align: top;\n",
       "    }\n",
       "\n",
       "    .dataframe thead th {\n",
       "        text-align: right;\n",
       "    }\n",
       "</style>\n",
       "<table border=\"1\" class=\"dataframe\">\n",
       "  <thead>\n",
       "    <tr style=\"text-align: right;\">\n",
       "      <th></th>\n",
       "      <th>Actual</th>\n",
       "      <th>Predicted</th>\n",
       "    </tr>\n",
       "  </thead>\n",
       "  <tbody>\n",
       "    <tr>\n",
       "      <th>0</th>\n",
       "      <td>14862.093870</td>\n",
       "      <td>15290.49851</td>\n",
       "    </tr>\n",
       "    <tr>\n",
       "      <th>1</th>\n",
       "      <td>16256.236168</td>\n",
       "      <td>17562.49851</td>\n",
       "    </tr>\n",
       "    <tr>\n",
       "      <th>2</th>\n",
       "      <td>15802.652861</td>\n",
       "      <td>15354.49851</td>\n",
       "    </tr>\n",
       "    <tr>\n",
       "      <th>3</th>\n",
       "      <td>45061.951935</td>\n",
       "      <td>43842.49851</td>\n",
       "    </tr>\n",
       "    <tr>\n",
       "      <th>4</th>\n",
       "      <td>12425.389171</td>\n",
       "      <td>12598.49851</td>\n",
       "    </tr>\n",
       "    <tr>\n",
       "      <th>...</th>\n",
       "      <td>...</td>\n",
       "      <td>...</td>\n",
       "    </tr>\n",
       "    <tr>\n",
       "      <th>156</th>\n",
       "      <td>18548.978593</td>\n",
       "      <td>19178.49851</td>\n",
       "    </tr>\n",
       "    <tr>\n",
       "      <th>157</th>\n",
       "      <td>36332.894685</td>\n",
       "      <td>35026.49851</td>\n",
       "    </tr>\n",
       "    <tr>\n",
       "      <th>158</th>\n",
       "      <td>21683.031464</td>\n",
       "      <td>20146.49851</td>\n",
       "    </tr>\n",
       "    <tr>\n",
       "      <th>159</th>\n",
       "      <td>18040.144006</td>\n",
       "      <td>21946.49851</td>\n",
       "    </tr>\n",
       "    <tr>\n",
       "      <th>160</th>\n",
       "      <td>17394.021398</td>\n",
       "      <td>18906.49851</td>\n",
       "    </tr>\n",
       "  </tbody>\n",
       "</table>\n",
       "<p>161 rows × 2 columns</p>\n",
       "</div>"
      ],
      "text/plain": [
       "           Actual    Predicted\n",
       "0    14862.093870  15290.49851\n",
       "1    16256.236168  17562.49851\n",
       "2    15802.652861  15354.49851\n",
       "3    45061.951935  43842.49851\n",
       "4    12425.389171  12598.49851\n",
       "..            ...          ...\n",
       "156  18548.978593  19178.49851\n",
       "157  36332.894685  35026.49851\n",
       "158  21683.031464  20146.49851\n",
       "159  18040.144006  21946.49851\n",
       "160  17394.021398  18906.49851\n",
       "\n",
       "[161 rows x 2 columns]"
      ]
     },
     "execution_count": 46,
     "metadata": {},
     "output_type": "execute_result"
    }
   ],
   "source": [
    "df = pd.DataFrame({'Actual': y_test, 'Predicted': y_pred})\n",
    "df"
   ]
  },
  {
   "cell_type": "code",
   "execution_count": 48,
   "metadata": {},
   "outputs": [
    {
     "name": "stdout",
     "output_type": "stream",
     "text": [
      "R2- SCORE: 0.9798278754374936\n"
     ]
    }
   ],
   "source": [
    "from sklearn import metrics\n",
    "print('R2- SCORE:', metrics.r2_score(y_test,y_pred))"
   ]
  },
  {
   "cell_type": "markdown",
   "metadata": {},
   "source": [
    "Here we have 97% accuracy of R-2 score"
   ]
  },
  {
   "cell_type": "code",
   "execution_count": 49,
   "metadata": {},
   "outputs": [
    {
     "data": {
      "text/plain": [
       "[('Mileage', False),\n",
       " ('Cylinder', False),\n",
       " ('Liter', False),\n",
       " ('Doors', False),\n",
       " ('Cruise', False),\n",
       " ('Sound', False),\n",
       " ('Leather', False),\n",
       " ('Make_Buick', False),\n",
       " ('Make_Cadillac', True),\n",
       " ('Make_Chevrolet', False),\n",
       " ('Make_Pontiac', False),\n",
       " ('Make_SAAB', True),\n",
       " ('Make_Saturn', False),\n",
       " ('Model_9-2X AWD', False),\n",
       " ('Model_9_3', False),\n",
       " ('Model_9_3 HO', False),\n",
       " ('Model_9_5', False),\n",
       " ('Model_9_5 HO', False),\n",
       " ('Model_AVEO', False),\n",
       " ('Model_Bonneville', False),\n",
       " ('Model_CST-V', False),\n",
       " ('Model_CTS', False),\n",
       " ('Model_Cavalier', False),\n",
       " ('Model_Century', False),\n",
       " ('Model_Classic', False),\n",
       " ('Model_Cobalt', False),\n",
       " ('Model_Corvette', True),\n",
       " ('Model_Deville', False),\n",
       " ('Model_G6', False),\n",
       " ('Model_GTO', False),\n",
       " ('Model_Grand Am', False),\n",
       " ('Model_Grand Prix', False),\n",
       " ('Model_Impala', False),\n",
       " ('Model_Ion', False),\n",
       " ('Model_L Series', False),\n",
       " ('Model_Lacrosse', False),\n",
       " ('Model_Lesabre', False),\n",
       " ('Model_Malibu', False),\n",
       " ('Model_Monte Carlo', False),\n",
       " ('Model_Park Avenue', False),\n",
       " ('Model_STS-V6', False),\n",
       " ('Model_STS-V8', False),\n",
       " ('Model_Sunfire', False),\n",
       " ('Model_Vibe', False),\n",
       " ('Model_XLR-V8', False),\n",
       " ('Type_Convertible', False),\n",
       " ('Type_Coupe', False),\n",
       " ('Type_Hatchback', False),\n",
       " ('Type_Sedan', False),\n",
       " ('Type_Wagon', False)]"
      ]
     },
     "execution_count": 49,
     "metadata": {},
     "output_type": "execute_result"
    }
   ],
   "source": [
    "from sklearn.feature_selection import RFE\n",
    "estimator = LinearRegression()\n",
    "selector = RFE(estimator, n_features_to_select=3, step=1)\n",
    "selector = selector.fit(X_train_scaled, y_train)\n",
    "list(zip(b,selector.support_))"
   ]
  },
  {
   "cell_type": "code",
   "execution_count": 50,
   "metadata": {},
   "outputs": [
    {
     "data": {
      "text/plain": [
       "[(1, 'Make_Cadillac'),\n",
       " (1, 'Make_SAAB'),\n",
       " (1, 'Model_Corvette'),\n",
       " (2, 'Model_AVEO'),\n",
       " (3, 'Model_GTO'),\n",
       " (4, 'Model_Park Avenue'),\n",
       " (5, 'Model_Lacrosse'),\n",
       " (6, 'Model_Bonneville'),\n",
       " (7, 'Model_Impala'),\n",
       " (8, 'Model_Monte Carlo'),\n",
       " (9, 'Model_G6'),\n",
       " (10, 'Model_Lesabre'),\n",
       " (11, 'Model_Malibu'),\n",
       " (12, 'Model_Grand Prix'),\n",
       " (13, 'Make_Chevrolet'),\n",
       " (14, 'Model_Cavalier'),\n",
       " (15, 'Model_Cobalt'),\n",
       " (16, 'Model_Classic'),\n",
       " (17, 'Make_Saturn'),\n",
       " (18, 'Model_Sunfire'),\n",
       " (19, 'Model_Grand Am'),\n",
       " (20, 'Model_Vibe'),\n",
       " (21, 'Model_Century'),\n",
       " (22, 'Make_Pontiac'),\n",
       " (23, 'Type_Sedan'),\n",
       " (24, 'Type_Coupe'),\n",
       " (25, 'Type_Hatchback'),\n",
       " (26, 'Type_Wagon'),\n",
       " (27, 'Type_Convertible'),\n",
       " (28, 'Make_Buick'),\n",
       " (29, 'Model_Ion'),\n",
       " (30, 'Model_L Series'),\n",
       " (31, 'Model_XLR-V8'),\n",
       " (32, 'Model_CTS'),\n",
       " (33, 'Model_Deville'),\n",
       " (34, 'Model_STS-V6'),\n",
       " (35, 'Model_CST-V'),\n",
       " (36, 'Model_STS-V8'),\n",
       " (37, 'Model_9_5'),\n",
       " (38, 'Model_9_5 HO'),\n",
       " (39, 'Model_9_3 HO'),\n",
       " (40, 'Model_9_3'),\n",
       " (41, 'Model_9-2X AWD'),\n",
       " (42, 'Doors'),\n",
       " (43, 'Liter'),\n",
       " (44, 'Cylinder'),\n",
       " (45, 'Mileage'),\n",
       " (46, 'Leather'),\n",
       " (47, 'Sound'),\n",
       " (48, 'Cruise')]"
      ]
     },
     "execution_count": 50,
     "metadata": {},
     "output_type": "execute_result"
    }
   ],
   "source": [
    "sorted(list(zip(selector.ranking_,b)))"
   ]
  },
  {
   "cell_type": "code",
   "execution_count": null,
   "metadata": {},
   "outputs": [],
   "source": []
  }
 ],
 "metadata": {
  "kernelspec": {
   "display_name": "Python 3 (ipykernel)",
   "language": "python",
   "name": "python3"
  },
  "language_info": {
   "codemirror_mode": {
    "name": "ipython",
    "version": 3
   },
   "file_extension": ".py",
   "mimetype": "text/x-python",
   "name": "python",
   "nbconvert_exporter": "python",
   "pygments_lexer": "ipython3",
   "version": "3.9.13"
  }
 },
 "nbformat": 4,
 "nbformat_minor": 1
}
